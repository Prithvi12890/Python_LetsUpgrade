{
 "cells": [
  {
   "cell_type": "code",
   "execution_count": 6,
   "metadata": {},
   "outputs": [
    {
     "name": "stdout",
     "output_type": "stream",
     "text": [
      "Enter an integer to find sum of numbers from 1 to that number: 5\n",
      "15\n"
     ]
    }
   ],
   "source": [
    "n = int(input(\"Enter an integer to find sum of numbers from 1 to that number: \"))\n",
    "i = 1\n",
    "sumn = 0\n",
    "while i<=n:\n",
    "    sumn += i\n",
    "    i+=1\n",
    "print(sumn)"
   ]
  },
  {
   "cell_type": "code",
   "execution_count": 15,
   "metadata": {},
   "outputs": [
    {
     "name": "stdout",
     "output_type": "stream",
     "text": [
      "Give a number to check whether the number is prime or not: 733\n",
      "733 is a prime number\n"
     ]
    }
   ],
   "source": [
    "x = int(input(\"Give a number to check whether the number is prime or not: \"))\n",
    "prime = 0\n",
    "for i in range(x):\n",
    "    if i==0 or i==1:\n",
    "        continue\n",
    "    else:\n",
    "        if x%i==0:\n",
    "            prime = 0\n",
    "            break\n",
    "        else:\n",
    "            prime = 1\n",
    "if prime==1:\n",
    "    print(f\"{x} is a prime number\")\n",
    "else:\n",
    "    print(f\"{x} is not a prime number\")"
   ]
  },
  {
   "cell_type": "code",
   "execution_count": null,
   "metadata": {},
   "outputs": [],
   "source": []
  }
 ],
 "metadata": {
  "kernelspec": {
   "display_name": "Python 3",
   "language": "python",
   "name": "python3"
  },
  "language_info": {
   "codemirror_mode": {
    "name": "ipython",
    "version": 3
   },
   "file_extension": ".py",
   "mimetype": "text/x-python",
   "name": "python",
   "nbconvert_exporter": "python",
   "pygments_lexer": "ipython3",
   "version": "3.7.6"
  }
 },
 "nbformat": 4,
 "nbformat_minor": 4
}
