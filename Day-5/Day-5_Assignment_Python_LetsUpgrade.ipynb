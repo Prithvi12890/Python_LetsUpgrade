{
 "cells": [
  {
   "cell_type": "markdown",
   "metadata": {},
   "source": [
    "## Question 1:\n",
    "#### list1 = [0,1,2,10,4,1,0,56,2,0,1,3,0,56,0,4]\n",
    "#### sort this list in increasing order but all the zeroes should be at right hand side"
   ]
  },
  {
   "cell_type": "code",
   "execution_count": 18,
   "metadata": {},
   "outputs": [
    {
     "name": "stdout",
     "output_type": "stream",
     "text": [
      "[1, 1, 2, 4, 10, 2, 56, 1, 3, 56, 4, 0, 0, 0, 0, 0]\n"
     ]
    }
   ],
   "source": [
    "list1 = [0,1,2,10,4,1,0,56,2,0,1,3,0,56,0,4]\n",
    "list2 = []\n",
    "index = 1\n",
    "while index < len(list1)-1:\n",
    "    if list1[index] == 0:\n",
    "        list2.append(list1[index])\n",
    "        list1.remove(list1[index])\n",
    "    else:\n",
    "        if list1[index] < list1[index - 1]:\n",
    "            temp = list1[index - 1]\n",
    "            list1[index - 1] = list1[index]\n",
    "            list1[index] = temp\n",
    "            index = 0\n",
    "    index += 1\n",
    "list3 = list1 + list2\n",
    "print(list3)"
   ]
  },
  {
   "cell_type": "markdown",
   "metadata": {},
   "source": [
    "## Question 2:\n",
    "#### listA = [10,20,30,40,50,60,70]\n",
    "#### listB = [5,15,25,35,45,60]\n",
    "#### Merge these two sorted lists and produce a new sorted list using a while loop or for loop only"
   ]
  },
  {
   "cell_type": "code",
   "execution_count": 12,
   "metadata": {},
   "outputs": [
    {
     "name": "stdout",
     "output_type": "stream",
     "text": [
      "[5, 10, 15, 20, 25, 30, 35, 40, 45, 50, 60, 60]\n"
     ]
    }
   ],
   "source": [
    "listA = [10,20,30,40,50,60]\n",
    "listB = [5,15,25,35,45,60]\n",
    "listC = listA + listB\n",
    "index = 1\n",
    "while index < len(listC)-1:\n",
    "    if listC[index] < listC[index - 1]:\n",
    "        temp = listC[index-1]\n",
    "        listC[index-1] = listC[index]\n",
    "        listC[index] = temp\n",
    "        index = 0\n",
    "    index+=1\n",
    "print(listC)"
   ]
  },
  {
   "cell_type": "code",
   "execution_count": null,
   "metadata": {},
   "outputs": [],
   "source": []
  }
 ],
 "metadata": {
  "kernelspec": {
   "display_name": "Python 3",
   "language": "python",
   "name": "python3"
  },
  "language_info": {
   "codemirror_mode": {
    "name": "ipython",
    "version": 3
   },
   "file_extension": ".py",
   "mimetype": "text/x-python",
   "name": "python",
   "nbconvert_exporter": "python",
   "pygments_lexer": "ipython3",
   "version": "3.7.6"
  }
 },
 "nbformat": 4,
 "nbformat_minor": 4
}
