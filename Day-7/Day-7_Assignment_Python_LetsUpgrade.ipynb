{
 "cells": [
  {
   "cell_type": "markdown",
   "metadata": {},
   "source": [
    "## Question1:\n",
    "### Use the dictionary\n",
    "### port1 = {21:\"FTP\", 22:\"telnet\",80:\"http\"}\n",
    "### and make a new dictionary in which keys become values and values become keys"
   ]
  },
  {
   "cell_type": "code",
   "execution_count": 1,
   "metadata": {},
   "outputs": [
    {
     "name": "stdout",
     "output_type": "stream",
     "text": [
      "{'FTP': 21, 'SSH': 22, 'telnet': 23, 'http': 80}\n"
     ]
    }
   ],
   "source": [
    "def swap(dict1):\n",
    "    dict2 = {}\n",
    "    for k,v in dict1.items():\n",
    "        dict2[v] = k\n",
    "    return dict2\n",
    "port1 = {21:\"FTP\", 22:\"SSH\", 23:\"telnet\", 80:\"http\"}\n",
    "port2 = swap(port1)\n",
    "print(port2)"
   ]
  },
  {
   "cell_type": "markdown",
   "metadata": {},
   "source": [
    "## Question 2 :\n",
    "### Take a list of tuple as shown below\n",
    "### [(1,2),(3,4),(5,6),(4,5)]\n",
    "### Make a new list which contains the sum of the numbers in tuples"
   ]
  },
  {
   "cell_type": "code",
   "execution_count": 2,
   "metadata": {},
   "outputs": [
    {
     "name": "stdout",
     "output_type": "stream",
     "text": [
      "[3, 7, 11, 9]\n"
     ]
    }
   ],
   "source": [
    "def tupleAdd(list1):\n",
    "    list2 = []\n",
    "    dict1 = dict(list1)\n",
    "    for k,v in dict1.items():\n",
    "        list2.append(k+v)\n",
    "    return list2\n",
    "list1 = [(1,2),(3,4),(5,6),(4,5)]\n",
    "newList1 = tupleAdd(list1)\n",
    "print(newList1)"
   ]
  },
  {
   "cell_type": "code",
   "execution_count": null,
   "metadata": {},
   "outputs": [],
   "source": []
  }
 ],
 "metadata": {
  "kernelspec": {
   "display_name": "Python 3",
   "language": "python",
   "name": "python3"
  },
  "language_info": {
   "codemirror_mode": {
    "name": "ipython",
    "version": 3
   },
   "file_extension": ".py",
   "mimetype": "text/x-python",
   "name": "python",
   "nbconvert_exporter": "python",
   "pygments_lexer": "ipython3",
   "version": "3.7.6"
  }
 },
 "nbformat": 4,
 "nbformat_minor": 4
}
