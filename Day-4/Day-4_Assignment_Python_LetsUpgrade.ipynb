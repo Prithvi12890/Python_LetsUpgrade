{
 "cells": [
  {
   "cell_type": "markdown",
   "metadata": {},
   "source": [
    "# Day - 4  Assignment Solutions"
   ]
  },
  {
   "cell_type": "markdown",
   "metadata": {},
   "source": [
    "### Question 1:\n",
    "#### Find all the occurrences of a subsring in the given string,\n",
    "#### \"what we think we become; we are Python programmers\"\n",
    "#### Print the index values"
   ]
  },
  {
   "cell_type": "code",
   "execution_count": 2,
   "metadata": {},
   "outputs": [],
   "source": [
    "str1 = \"what we think we become; we are Python programmers\""
   ]
  },
  {
   "cell_type": "code",
   "execution_count": 3,
   "metadata": {},
   "outputs": [],
   "source": [
    "count = str1.count('we')"
   ]
  },
  {
   "cell_type": "code",
   "execution_count": 8,
   "metadata": {},
   "outputs": [
    {
     "name": "stdout",
     "output_type": "stream",
     "text": [
      "5\n",
      "14\n",
      "25\n"
     ]
    }
   ],
   "source": [
    "k = 0\n",
    "for i in range(count):\n",
    "    index = str1.find('we',k)\n",
    "    k = index + 1\n",
    "    if index != -1:\n",
    "        print(index)"
   ]
  },
  {
   "cell_type": "markdown",
   "metadata": {},
   "source": [
    "#### -------------------------------------------------------------------------------"
   ]
  },
  {
   "cell_type": "markdown",
   "metadata": {},
   "source": [
    "### Question 2:\n",
    "#### Explain islower() and isupper() using different kinds of strings."
   ]
  },
  {
   "cell_type": "code",
   "execution_count": 34,
   "metadata": {},
   "outputs": [],
   "source": [
    "str2 = \"what is programming?\"\n",
    "str3 = \"What is Programming?\"\n",
    "str4 = \"HOW ARE YOU@#?\"\n",
    "str5 = \"1234567890\"\n",
    "str6 = \"a1234567890\"\n",
    "str7 = \"A1234567890\"\n",
    "str8 = \"!@#$%&*-_=\"\n",
    "str9 = \"!@#$%&*-_=a\"\n",
    "str10 = \"!@#$%&*-_=A\"\n",
    "str11 = \"1!2@3#4$5%6^7&8*9()-+*/_0\""
   ]
  },
  {
   "cell_type": "code",
   "execution_count": 35,
   "metadata": {},
   "outputs": [
    {
     "name": "stdout",
     "output_type": "stream",
     "text": [
      "str2.islower() ---> True\n",
      "str3.islower() ---> False\n",
      "str4.islower() ---> False\n",
      "str5.islower() ---> False\n",
      "str6.islower() ---> True\n",
      "str7.islower() ---> False\n",
      "str8.islower() ---> False\n",
      "str9.islower() ---> True\n",
      "str10.islower() ---> False\n",
      "str11.islower() ---> False\n"
     ]
    }
   ],
   "source": [
    "print(\"str2.islower() ---> \" + str(str2.islower()))\n",
    "print(\"str3.islower() ---> \" + str(str3.islower()))\n",
    "print(\"str4.islower() ---> \" + str(str4.islower()))\n",
    "print(\"str5.islower() ---> \" + str(str5.islower()))\n",
    "print(\"str6.islower() ---> \" + str(str6.islower()))\n",
    "print(\"str7.islower() ---> \" + str(str7.islower()))\n",
    "print(\"str8.islower() ---> \" + str(str8.islower()))\n",
    "print(\"str9.islower() ---> \" + str(str9.islower()))\n",
    "print(\"str10.islower() ---> \" + str(str10.islower()))\n",
    "print(\"str11.islower() ---> \" + str(str11.islower()))"
   ]
  },
  {
   "cell_type": "code",
   "execution_count": 36,
   "metadata": {},
   "outputs": [
    {
     "name": "stdout",
     "output_type": "stream",
     "text": [
      "str2.isupper() ---> False\n",
      "str3.isupper() ---> False\n",
      "str4.isupper() ---> True\n",
      "str5.isupper() ---> False\n",
      "str6.isupper() ---> False\n",
      "str7.isupper() ---> True\n",
      "str8.isupper() ---> False\n",
      "str9.isupper() ---> False\n",
      "str10.isupper() ---> True\n",
      "str11.isupper() ---> False\n"
     ]
    }
   ],
   "source": [
    "print(\"str2.isupper() ---> \" + str(str2.isupper()))\n",
    "print(\"str3.isupper() ---> \" + str(str3.isupper()))\n",
    "print(\"str4.isupper() ---> \" + str(str4.isupper()))\n",
    "print(\"str5.isupper() ---> \" + str(str5.isupper()))\n",
    "print(\"str6.isupper() ---> \" + str(str6.isupper()))\n",
    "print(\"str7.isupper() ---> \" + str(str7.isupper()))\n",
    "print(\"str8.isupper() ---> \" + str(str8.isupper()))\n",
    "print(\"str9.isupper() ---> \" + str(str9.isupper()))\n",
    "print(\"str10.isupper() ---> \" + str(str10.isupper()))\n",
    "print(\"str11.isupper() ---> \" + str(str11.isupper()))"
   ]
  },
  {
   "cell_type": "markdown",
   "metadata": {},
   "source": [
    "#### ------------------------- xxxxx ------------------------- xxxxx ------------------------- xxxxx ------------------------- xxxxx  ------------------------- "
   ]
  },
  {
   "cell_type": "code",
   "execution_count": null,
   "metadata": {},
   "outputs": [],
   "source": []
  }
 ],
 "metadata": {
  "kernelspec": {
   "display_name": "Python 3",
   "language": "python",
   "name": "python3"
  },
  "language_info": {
   "codemirror_mode": {
    "name": "ipython",
    "version": 3
   },
   "file_extension": ".py",
   "mimetype": "text/x-python",
   "name": "python",
   "nbconvert_exporter": "python",
   "pygments_lexer": "ipython3",
   "version": "3.7.6"
  }
 },
 "nbformat": 4,
 "nbformat_minor": 4
}
